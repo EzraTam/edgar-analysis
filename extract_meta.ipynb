{
 "cells": [
  {
   "cell_type": "code",
   "execution_count": 19,
   "metadata": {},
   "outputs": [],
   "source": [
    "import os\n",
    "import json\n",
    "import csv\n",
    "import pandas as pd"
   ]
  },
  {
   "cell_type": "code",
   "execution_count": 8,
   "metadata": {},
   "outputs": [],
   "source": [
    "PATH_DATA=\"/Users/ezratampubolon/PythonProjects/Financial/edgar-data/companyfacts\""
   ]
  },
  {
   "cell_type": "code",
   "execution_count": 9,
   "metadata": {},
   "outputs": [],
   "source": [
    "li_comp_file=os.listdir(PATH_DATA)"
   ]
  },
  {
   "cell_type": "code",
   "execution_count": 17,
   "metadata": {},
   "outputs": [],
   "source": [
    "meta_data=[]\n",
    "\n",
    "for file_nm in li_comp_file:\n",
    "    with open(os.path.join(PATH_DATA,file_nm), encoding=\"utf-8\") as file:\n",
    "        # Define service\n",
    "        raw_data=json.load(file)\n",
    "        \n",
    "\n",
    "        meta_data.append((file_nm,raw_data.get(\"cik\"),raw_data.get(\"entityName\")))\n",
    "\n"
   ]
  },
  {
   "cell_type": "code",
   "execution_count": 22,
   "metadata": {},
   "outputs": [],
   "source": [
    "df=pd.DataFrame(meta_data,columns=[\"file_nm\",\"cik\",\"entity_name\"])"
   ]
  },
  {
   "cell_type": "code",
   "execution_count": 24,
   "metadata": {},
   "outputs": [],
   "source": [
    "df.to_csv(\"meta_data.csv\",index=False)"
   ]
  },
  {
   "cell_type": "code",
   "execution_count": null,
   "metadata": {},
   "outputs": [],
   "source": []
  }
 ],
 "metadata": {
  "kernelspec": {
   "display_name": "Python 3.9.7 ('edgar-analysis-1At4pEkT-py3.9')",
   "language": "python",
   "name": "python3"
  },
  "language_info": {
   "codemirror_mode": {
    "name": "ipython",
    "version": 3
   },
   "file_extension": ".py",
   "mimetype": "text/x-python",
   "name": "python",
   "nbconvert_exporter": "python",
   "pygments_lexer": "ipython3",
   "version": "3.9.7"
  },
  "orig_nbformat": 4,
  "vscode": {
   "interpreter": {
    "hash": "c7139740cf144a1686f3f8178276a4580b4a75521c567346c16522664390d163"
   }
  }
 },
 "nbformat": 4,
 "nbformat_minor": 2
}
