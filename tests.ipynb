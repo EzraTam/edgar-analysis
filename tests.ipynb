{
 "cells": [
  {
   "cell_type": "code",
   "execution_count": 55,
   "metadata": {},
   "outputs": [],
   "source": [
    "import numpy as np"
   ]
  },
  {
   "cell_type": "code",
   "execution_count": 9,
   "metadata": {},
   "outputs": [],
   "source": [
    "import os\n",
    "import json\n",
    "import pandas as pd"
   ]
  },
  {
   "cell_type": "code",
   "execution_count": 4,
   "metadata": {},
   "outputs": [],
   "source": [
    "file_path='/Users/ezratampubolon/PythonProjects/Financial/edgar-data/companyfacts/CIK0001601712.json'"
   ]
  },
  {
   "cell_type": "code",
   "execution_count": 5,
   "metadata": {},
   "outputs": [],
   "source": [
    "with open(file_path, encoding=\"utf-8\") as file:\n",
    "        # Define service\n",
    "        raw_data=json.load(file)"
   ]
  },
  {
   "cell_type": "code",
   "execution_count": 201,
   "metadata": {},
   "outputs": [
    {
     "name": "stdout",
     "output_type": "stream",
     "text": [
      "dict_keys(['cik', 'entityName', 'facts'])\n"
     ]
    }
   ],
   "source": [
    "print(raw_data.keys())"
   ]
  },
  {
   "cell_type": "code",
   "execution_count": 204,
   "metadata": {},
   "outputs": [
    {
     "data": {
      "text/plain": [
       "1601712"
      ]
     },
     "execution_count": 204,
     "metadata": {},
     "output_type": "execute_result"
    }
   ],
   "source": [
    "raw_data[\"cik\"]"
   ]
  },
  {
   "cell_type": "code",
   "execution_count": 215,
   "metadata": {},
   "outputs": [],
   "source": [
    "from typing import List, Dict, Union,Optional\n",
    "from __future__ import annotations\n",
    "import numpy as np\n",
    "\n",
    "import pandas as pd\n",
    "\n",
    "def norm_and_rename(method):\n",
    "    def inner(self):\n",
    "        df_output=method(self)\n",
    "        if self.norm_mill:\n",
    "            df_output[\"val\"] = df_output[\"val\"] / 1000000\n",
    "        if self.col_nm:\n",
    "            df_output = df_output.rename(columns={\"val\": df_output.col_nm})  \n",
    "        return df_output\n",
    "    return inner\n",
    "\n",
    "\n",
    "class EdgarData:\n",
    "    \n",
    "    def __init__(self,data:List[Dict[str,Union[str,int,float]]],unit:Optional[str]=None,company_name:Optional[str]=None,cik:Optional[str]=None,col_nm:Optional[str]=None, norm_mill: Optional[bool] = None)->None:\n",
    "        \n",
    "        self.data=data\n",
    "        self.col_nm=col_nm\n",
    "        self.norm_mill=norm_mill\n",
    "        self.unit=unit\n",
    "        self.company_name=company_name\n",
    "        self.cik=cik\n",
    "\n",
    "\n",
    "    @classmethod\n",
    "    def from_tag(cls,data_comp: Dict,tag:str,col_nm:Optional[str]=None, norm_mill: Optional[bool] = None)->EdgarData:\n",
    "        \n",
    "        assert len(data_comp[\"facts\"][\"us-gaap\"][tag][\"units\"])<= 1, f\"There are more than 1 data with different units! Units are: {list(data_comp['facts']['us-gaap'][tag]['units'].keys())}\"\n",
    "\n",
    "        assert len(data_comp[\"facts\"][\"us-gaap\"][tag][\"units\"])> 0, \"No data is given or data is directly given in unit. Please check\" \n",
    "\n",
    "        unit = list(data_comp[\"facts\"][\"us-gaap\"][tag][\"units\"].keys())[0]\n",
    "        company_name=data_comp[\"entityName\"]\n",
    "        cik=data_comp[\"cik\"]\n",
    "\n",
    "        return EdgarData(data=data_comp[\"facts\"][\"us-gaap\"][tag][\"units\"][unit],unit=unit,col_nm=col_nm,norm_mill=norm_mill,company_name=company_name,cik=cik)\n",
    "\n",
    "    @property\n",
    "    def raw(self)->pd.DataFrame:\n",
    "        \"\"\"Raw DF created from the data input into the class\n",
    "        \"\"\"\n",
    "        _df=pd.DataFrame(self.data)\n",
    "        _df[\"end\"] = pd.to_datetime(_df[\"end\"], format=\"%Y-%m-%d\")\n",
    "        _df[\"start\"] = pd.to_datetime(_df[\"start\"], format=\"%Y-%m-%d\")\n",
    "        _df[\"year\"] = pd.DatetimeIndex(_df[\"end\"]).year\n",
    "        _df['diff_months'] = (_df['end'] - _df['start']) / np.timedelta64(1, 'M')\n",
    "        _df['diff_months'] = _df['diff_months'].round(0).astype(int)\n",
    "        return _df\n",
    "    \n",
    "    @property\n",
    "    @norm_and_rename\n",
    "    def yearly(self)->pd.DataFrame:\n",
    "        \"\"\"Yearly Data in DF-Format\n",
    "        \"\"\"\n",
    "        df_res = self.raw[self.raw[\"fp\"] == \"FY\"]\n",
    "\n",
    "        return (\n",
    "            df_res.sort_values([\"year\", \"fy\"], ascending=False)\n",
    "            .groupby(\"year\")\n",
    "            .head(1)[[\"year\", \"val\"]]\n",
    "            .reset_index(drop=True)\n",
    "        )\n",
    "    \n",
    "    @property\n",
    "    @norm_and_rename\n",
    "    def quarterly(self)->pd.DataFrame:\n",
    "        \"\"\"Quarterly Data in DF-Fromat\n",
    "        \"\"\"\n",
    "        \n",
    "        df_quarter=self.raw[self.raw[\"diff_months\"]==3]\n",
    "        df_quarter=df_quarter.sort_values(by=[\"end\",\"start\",\"filed\"])\n",
    "        df_quarter=df_quarter.groupby([\"end\",\"start\"]).head(1)\n",
    "        df_quarter=df_quarter.sort_values(by=\"end\",ascending=False)\n",
    "        df_quarter=df_quarter[[\"year\",\"fp\",\"val\"]]\n",
    "\n",
    "        df_temp=df_quarter.groupby(\"year\")[\"val\"].agg(['sum', 'count']).reset_index()\n",
    "        year_not_comp=df_temp[df_temp[\"count\"]==3]\n",
    "        df_temp=pd.merge(self.yearly,year_not_comp,on=\"year\",how=\"inner\")\n",
    "        df_temp[\"Q4\"]=df_temp[\"val\"]-df_temp[\"sum\"]\n",
    "        df_temp=df_temp.drop(columns=[\"sum\",\"count\",\"val\"]).rename(columns={\"Q4\":\"val\"})\n",
    "        df_temp[\"fp\"]=\"Q4\"\n",
    "\n",
    "        df_quarter=pd.concat([df_quarter,df_temp])\n",
    "        df_quarter.loc[df_quarter[\"fp\"]==\"FY\",\"fp\"]=\"Q4\"\n",
    "        df_quarter=df_quarter.sort_values(by=[\"year\",\"fp\"],ascending=[False,False]).reset_index(drop=True)\n",
    "\n",
    "        return df_quarter.sort_values(by=[\"year\",\"fp\"],ascending=[False,False]).reset_index(drop=True)\n"
   ]
  },
  {
   "cell_type": "code",
   "execution_count": 216,
   "metadata": {},
   "outputs": [
    {
     "data": {
      "text/html": [
       "<div>\n",
       "<style scoped>\n",
       "    .dataframe tbody tr th:only-of-type {\n",
       "        vertical-align: middle;\n",
       "    }\n",
       "\n",
       "    .dataframe tbody tr th {\n",
       "        vertical-align: top;\n",
       "    }\n",
       "\n",
       "    .dataframe thead th {\n",
       "        text-align: right;\n",
       "    }\n",
       "</style>\n",
       "<table border=\"1\" class=\"dataframe\">\n",
       "  <thead>\n",
       "    <tr style=\"text-align: right;\">\n",
       "      <th></th>\n",
       "      <th>year</th>\n",
       "      <th>val</th>\n",
       "    </tr>\n",
       "  </thead>\n",
       "  <tbody>\n",
       "    <tr>\n",
       "      <th>0</th>\n",
       "      <td>2021</td>\n",
       "      <td>7.40</td>\n",
       "    </tr>\n",
       "    <tr>\n",
       "      <th>1</th>\n",
       "      <td>2020</td>\n",
       "      <td>2.28</td>\n",
       "    </tr>\n",
       "    <tr>\n",
       "      <th>2</th>\n",
       "      <td>2019</td>\n",
       "      <td>5.59</td>\n",
       "    </tr>\n",
       "    <tr>\n",
       "      <th>3</th>\n",
       "      <td>2018</td>\n",
       "      <td>3.76</td>\n",
       "    </tr>\n",
       "    <tr>\n",
       "      <th>4</th>\n",
       "      <td>2017</td>\n",
       "      <td>2.43</td>\n",
       "    </tr>\n",
       "    <tr>\n",
       "      <th>5</th>\n",
       "      <td>2016</td>\n",
       "      <td>2.71</td>\n",
       "    </tr>\n",
       "    <tr>\n",
       "      <th>6</th>\n",
       "      <td>2015</td>\n",
       "      <td>2.66</td>\n",
       "    </tr>\n",
       "    <tr>\n",
       "      <th>7</th>\n",
       "      <td>2014</td>\n",
       "      <td>2.78</td>\n",
       "    </tr>\n",
       "    <tr>\n",
       "      <th>8</th>\n",
       "      <td>2013</td>\n",
       "      <td>2.81</td>\n",
       "    </tr>\n",
       "    <tr>\n",
       "      <th>9</th>\n",
       "      <td>2012</td>\n",
       "      <td>3.00</td>\n",
       "    </tr>\n",
       "  </tbody>\n",
       "</table>\n",
       "</div>"
      ],
      "text/plain": [
       "   year   val\n",
       "0  2021  7.40\n",
       "1  2020  2.28\n",
       "2  2019  5.59\n",
       "3  2018  3.76\n",
       "4  2017  2.43\n",
       "5  2016  2.71\n",
       "6  2015  2.66\n",
       "7  2014  2.78\n",
       "8  2013  2.81\n",
       "9  2012  3.00"
      ]
     },
     "execution_count": 216,
     "metadata": {},
     "output_type": "execute_result"
    }
   ],
   "source": [
    "DataPD=EdgarData.from_tag(data_comp=raw_data,tag=\"EarningsPerShareBasic\")\n",
    "DataPD.yearly"
   ]
  },
  {
   "cell_type": "code",
   "execution_count": 218,
   "metadata": {},
   "outputs": [
    {
     "data": {
      "text/plain": [
       "'SYNCHRONY FINANCIAL'"
      ]
     },
     "execution_count": 218,
     "metadata": {},
     "output_type": "execute_result"
    }
   ],
   "source": [
    "DataPD.company_name"
   ]
  },
  {
   "cell_type": "code",
   "execution_count": null,
   "metadata": {},
   "outputs": [],
   "source": []
  }
 ],
 "metadata": {
  "kernelspec": {
   "display_name": "Python 3.9.7 ('edgar-analysis-1At4pEkT-py3.9')",
   "language": "python",
   "name": "python3"
  },
  "language_info": {
   "codemirror_mode": {
    "name": "ipython",
    "version": 3
   },
   "file_extension": ".py",
   "mimetype": "text/x-python",
   "name": "python",
   "nbconvert_exporter": "python",
   "pygments_lexer": "ipython3",
   "version": "3.9.7"
  },
  "orig_nbformat": 4,
  "vscode": {
   "interpreter": {
    "hash": "c7139740cf144a1686f3f8178276a4580b4a75521c567346c16522664390d163"
   }
  }
 },
 "nbformat": 4,
 "nbformat_minor": 2
}
